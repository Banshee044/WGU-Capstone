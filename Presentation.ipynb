{
 "cells": [
  {
   "cell_type": "code",
   "execution_count": 1,
   "id": "5e5dc2da-a677-414d-b8a4-adc3bf0e4dae",
   "metadata": {},
   "outputs": [
    {
     "data": {
      "application/vnd.jupyter.widget-view+json": {
       "model_id": "18363efd691440d292b167f2236c49b1",
       "version_major": 2,
       "version_minor": 0
      },
      "text/plain": [
       "IntSlider(value=20, description='Age', max=24, min=17)"
      ]
     },
     "metadata": {},
     "output_type": "display_data"
    },
    {
     "data": {
      "application/vnd.jupyter.widget-view+json": {
       "model_id": "653a0e29e3eb439f9891c7160ac053ce",
       "version_major": 2,
       "version_minor": 0
      },
      "text/plain": [
       "FloatSlider(value=2.5, description='Study Hours', max=10.0, step=0.5)"
      ]
     },
     "metadata": {},
     "output_type": "display_data"
    },
    {
     "data": {
      "application/vnd.jupyter.widget-view+json": {
       "model_id": "9484c272e78c465881b7cdc6f70c7b18",
       "version_major": 2,
       "version_minor": 0
      },
      "text/plain": [
       "FloatSlider(value=7.0, description='Sleep Hours', max=12.0, step=0.5)"
      ]
     },
     "metadata": {},
     "output_type": "display_data"
    },
    {
     "data": {
      "application/vnd.jupyter.widget-view+json": {
       "model_id": "f75feb75e64a41cea8e7c4b7c8c19be4",
       "version_major": 2,
       "version_minor": 0
      },
      "text/plain": [
       "Button(description='Predict Exam Score', style=ButtonStyle())"
      ]
     },
     "metadata": {},
     "output_type": "display_data"
    },
    {
     "data": {
      "application/vnd.jupyter.widget-view+json": {
       "model_id": "5d0fb54c683b4d279c70546e00f00900",
       "version_major": 2,
       "version_minor": 0
      },
      "text/plain": [
       "Output()"
      ]
     },
     "metadata": {},
     "output_type": "display_data"
    }
   ],
   "source": [
    "import ipywidgets as widgets\n",
    "from IPython.display import display\n",
    "\n",
    "# Example: 3 input fields\n",
    "age_slider = widgets.IntSlider(description='Age', min=17, max=24, value=20)\n",
    "study_hours = widgets.FloatSlider(description='Study Hours', min=0, max=10, step=0.5, value=2.5)\n",
    "sleep_hours = widgets.FloatSlider(description='Sleep Hours', min=0, max=12, step=0.5, value=7.0)\n",
    "\n",
    "# Submit button\n",
    "submit_button = widgets.Button(description='Predict Exam Score')\n",
    "\n",
    "# Output area\n",
    "output = widgets.Output()\n",
    "\n",
    "# Function to run when button is clicked\n",
    "def on_submit_clicked(b):\n",
    "    with output:\n",
    "        output.clear_output()\n",
    "        # Construct input as a tensor\n",
    "        input_data = [[\n",
    "            age_slider.value,\n",
    "            study_hours.value,\n",
    "            sleep_hours.value,\n",
    "            # include other features here...\n",
    "        ]]\n",
    "        input_tensor = torch.tensor(input_data, dtype=torch.float32)\n",
    "        model.eval()\n",
    "        with torch.no_grad():\n",
    "            prediction = model(input_tensor).item()\n",
    "        print(f\"Predicted Exam Score: {prediction:.2f}\")\n",
    "\n",
    "submit_button.on_click(on_submit_clicked)\n",
    "\n",
    "# Display everything\n",
    "display(age_slider, study_hours, sleep_hours, submit_button, output)"
   ]
  },
  {
   "cell_type": "code",
   "execution_count": null,
   "id": "a2f7d4ad-1cf6-4f8b-8823-87c4c5891b5d",
   "metadata": {},
   "outputs": [],
   "source": []
  }
 ],
 "metadata": {
  "kernelspec": {
   "display_name": "Python 3 (ipykernel)",
   "language": "python",
   "name": "python3"
  },
  "language_info": {
   "codemirror_mode": {
    "name": "ipython",
    "version": 3
   },
   "file_extension": ".py",
   "mimetype": "text/x-python",
   "name": "python",
   "nbconvert_exporter": "python",
   "pygments_lexer": "ipython3",
   "version": "3.12.0"
  }
 },
 "nbformat": 4,
 "nbformat_minor": 5
}
